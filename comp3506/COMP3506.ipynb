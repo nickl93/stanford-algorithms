{
 "cells": [
  {
   "cell_type": "markdown",
   "metadata": {},
   "source": [
    "# COMP3506 - Data Structures & Algorithms\n"
   ]
  },
  {
   "cell_type": "markdown",
   "metadata": {},
   "source": [
    "## Week 1"
   ]
  },
  {
   "cell_type": "markdown",
   "metadata": {},
   "source": [
    "### Lecture 1 (The RAM Model)\n",
    "__Memory (abstraction):__ an infinite sequence of cells of size w (bits), where each cell has an address (starting at 1).\n",
    "\n",
    "__CPU:__ contains registers of size w (bits) - 32 in this course.\n",
    "-  Can complete four atomic operations:    \n",
    "    1.  Register (Re-)Initialisation:\n",
    "        -  Set a register to a fixed value or to the contents of another register\n",
    "    2.  Arithmetic:\n",
    "        -  Take values from two registers and perform arithmetic opertations, storing the result in a register.\n",
    "    3.  Comparison/Branching:\n",
    "        -  Compare the values of two registers.\n",
    "    4.  Memory Access:\n",
    "        -  Take a memory address A, stored in a register, and either:\n",
    "            -  Read the contents of the memory address A into another (overwriting the existing contents).\n",
    "            -  Write the contents of another register into the memory cell with address A (overwriting the existing contents).\n",
    "            \n",
    "__Algorithm:__ a sequence of atomic operations.\n",
    "\n",
    "__Cost:__ the length of an algorithm sequence (i.e. the number of atomic operations.\n",
    "\n",
    "__Word:__ a sequence of w bits (where w is the word length)."
   ]
  },
  {
   "cell_type": "markdown",
   "metadata": {},
   "source": [
    "### Lecture 2 (Binary Search)\n",
    "__Worst-Case Running Time (of an algorithm):__ is the largest running time of the algorithm (under a problem size n) on all (possibly infinite) distinct inputs of size n.\n",
    "\n",
    "##### Binary Search (Pseudocode)\n",
    "```\n",
    "1.  let r1 = n,  r2 = v\n",
    "2.  left <- 1, right <- n\n",
    "3.  while left <= right\n",
    "4.      mid <- (left+right)/2\n",
    "5.      if mid == v:\n",
    "6.          return \"yes\"\n",
    "7.      else if mid > v:\n",
    "8.          right = mid - 1\n",
    "9.      else\n",
    "10.         left = mid + 1\n",
    "11.  return \"no\"\n",
    "```\n",
    "\n",
    "##### Binary Search (Python Implementation)"
   ]
  },
  {
   "cell_type": "code",
   "execution_count": 45,
   "metadata": {
    "collapsed": true
   },
   "outputs": [],
   "source": [
    "S = [3, 4, 12, 37, 64, 119, 131, 133, 187, 224, 233, 267, 307, 344, 353, 377, 382, 395, 449, 465, 471, 477, 490, 499, 509, 536, 559, 574, 593, 609, 642, 686, 692, 705, 713, 718, 730, 784, 803, 849, 882, 898, 919, 949, 954, 956, 969, 976, 990, 996]"
   ]
  },
  {
   "cell_type": "code",
   "execution_count": 46,
   "metadata": {
    "collapsed": false
   },
   "outputs": [
    {
     "name": "stdout",
     "output_type": "stream",
     "text": [
      "True\n",
      "False\n"
     ]
    }
   ],
   "source": [
    "n = 50\n",
    "v = 609\n",
    "not_v = 610\n",
    "\n",
    "def binary(n, v, S):\n",
    "    left = 0\n",
    "    right = n - 1\n",
    "    while left <= right:\n",
    "        mid = (left + right)//2\n",
    "        # print (\"l: \" + str(left) + \" r: \" + str(right) + \" m: \" + str(mid))\n",
    "        if S[mid] == v:\n",
    "            return True\n",
    "        elif S[mid] > v:\n",
    "            right = mid - 1\n",
    "        else:\n",
    "            left = mid + 1\n",
    "    return False\n",
    "\n",
    "print(binary(n, v, S))\n",
    "print(binary(n, not_v, S))"
   ]
  },
  {
   "cell_type": "markdown",
   "metadata": {},
   "source": [
    "### Lecture 3 (Asymptotic Notation)\n",
    "General rule of thumb is to focus on the largest term.\n",
    "Why?\n",
    "\n",
    "    -  Atomic operations differ in time.\n",
    "    -  Makes for a much simpler calculation.\n",
    "    -  Focus on performance as n -> infinity , makes constants irrelevant.\n",
    "    -  Overall objective is to minimise growth in running time.\n",
    "\n",
    "##### Big O Notation\n",
    "Take $f(n)$ and $g(n)$ as two functions on $n$.\n",
    "$f(n)$ grows asymptotically no faster than $g(n)$ if there is a constant $c_1 > 0$ such that $f(n) \\leq c_1 * g(n)$ holds $\\forall n \\geq c_2$, where $c_2$ is a constant.\n",
    "\n",
    "This is denoted as $f(n) = O(g(n))$.\n",
    "\n",
    "e.g.\n",
    "\n",
    "<div style=\"text-align:center;\">\n",
    "$ 10n = O(5n) $ <br/>\n",
    "choose constants $c_1 = 2, c_2 = 1$ <br/>\n",
    "$10n \\leq 2 \\cdot 5n$ <br/>\n",
    "$10n \\leq 10n \\,\\forall\\, n \\geq c_2 = 1.$\n",
    "</div>\n",
    "\n",
    "##### Big $\\Omega$ Notation\n",
    "Take $f(n)$ and $g(n)$ as two functions on $n$.\n",
    "$f(n)$ grows asymptotically no slower than $g(n)$ if there is a constant $c_1 > 0$ such that $f(n) \\geq c_1 * g(n)$ holds $\\forall n \\geq c_2$, where $c_2$ is a constant (Think lower bound, though that's not technically correct, or $f(n)$ will be faster or equal to $g(n)$).\n",
    "\n",
    "This is denoted as $f(n) = \\Omega(g(n))$.\n",
    "\n",
    "e.g. \n",
    "\n",
    "<div style=\"text-align:center;\">\n",
    "$ log_2 n = \\Omega(1) $ <br/>\n",
    "show that $log_2 n \\geq c_1 \\cdot 1 $ <br/>\n",
    "let $c_1 = 1, c_2 = 3$ <br />\n",
    "$log_2 3 > 1 \\geq 1 $  \n",
    "</div>\n",
    "\n",
    "##### Big $\\Theta$ Notation\n",
    "If $f(n) = O(g(n))$ and $f(n) = \\Omega(g(n)$, then:\n",
    "\n",
    "$ f(n) = \\Theta(g(n)) $\n",
    "\n",
    "and $f(n)$ is said to grow __asymptotically as fast as__ $g(n)$.\n",
    "\n",
    "e.g. \n",
    "\n",
    "<div style=\"text-align:center;\">\n",
    "First, show Big O: <br/ >\n",
    "$n^2 + 2n + 1 = O(n^2) $<br/>\n",
    "show that $n^2 + 2n + 1 \\leq c_1 \\cdot n^2\\, \\forall\\, n \\geq c_2$ <br/>\n",
    "let $c_1 = 5$ and $c_2 = 1$ <br/>\n",
    "$ n^2 + 2n + 1 \\leq 5 \\cdot n^2 $ holds. <br/>\n",
    "<br />\n",
    "Then, show Big $\\Theta$: <br/>\n",
    "$n^2 + 2n + 1 \\geq c_1 \\cdot n^2 \\, \\forall \\, n\\geq c_2 > 0 $ <br/>\n",
    "let $c_1 = 1, c_2 = 1$ <br/>\n",
    "$n^2 + 2n + 1 \\geq n^2 $ <br/>\n",
    "</div>"
   ]
  },
  {
   "cell_type": "markdown",
   "metadata": {},
   "source": [
    "## Week 2\n",
    "### Exercises\n"
   ]
  },
  {
   "cell_type": "code",
   "execution_count": 47,
   "metadata": {
    "collapsed": false
   },
   "outputs": [
    {
     "name": "stdout",
     "output_type": "stream",
     "text": [
      "4\n"
     ]
    }
   ],
   "source": [
    "# Problem 1 - Compute value of floor(log2n) in no more than 100log2n time.\n",
    "r = 17.5678293\n",
    "\n",
    "def log_floor(r):\n",
    "    i = 1\n",
    "    while 2**i < r:\n",
    "        i += 1\n",
    "    return i-1\n",
    "\n",
    "print(log_floor(r))"
   ]
  },
  {
   "cell_type": "markdown",
   "metadata": {},
   "source": [
    "###### Problem 2\n",
    "Binary search works by setting pointers to the leftmost and rightmost elements (3 and 94, respectively). It then find the middle element (52). If that middle element is the search value (35), the search returns. Given that it's not, and the middle element is greater than the search term, the right element is adjusted to one left of the middle term (45; effectively discarding half the search input). As the middle is not the search term, the middle is calculated again (25), given that it is too low, the left index is recalculated to the middle + 1 (26; discarding the left half). The middle is again calculated (32). It is less than the search term, so the left index is recalculated to middle + 1 (40). The middle is 40, higher than the search term, so the right is recalculated to the middle - 1. Now the right index is no longer greater than the left and the search term has not been found, hence the search term is not in the search set."
   ]
  },
  {
   "cell_type": "code",
   "execution_count": 48,
   "metadata": {
    "collapsed": false
   },
   "outputs": [
    {
     "name": "stdout",
     "output_type": "stream",
     "text": [
      "94\n",
      "25\n"
     ]
    }
   ],
   "source": [
    "# Problem 3 - Predecessor\n",
    "\n",
    "s = [3, 14, 25, 32, 40, 45, 52, 55, 59, 65, 68, 69, 81, 86, 94]\n",
    "\n",
    "def predec(S, v):\n",
    "    left = 0\n",
    "    right = len(S) - 1\n",
    "    while right >= left:\n",
    "        mid = (right + left) // 2\n",
    "        # print(str(left)+\" \"+str(mid)+\" \"+str(right))\n",
    "        if S[mid] == v:\n",
    "            return S[mid] \n",
    "        elif S[mid] > v:\n",
    "            right = mid - 1\n",
    "        elif S[mid] < v:\n",
    "            left = mid + 1\n",
    "    if S[mid] < v:\n",
    "        return S[mid]\n",
    "    else:\n",
    "        return None\n",
    "\n",
    "print(predec(s, 1000))\n",
    "print(predec(s, 25))"
   ]
  },
  {
   "cell_type": "code",
   "execution_count": 49,
   "metadata": {
    "collapsed": false
   },
   "outputs": [
    {
     "name": "stdout",
     "output_type": "stream",
     "text": [
      "2\n",
      "4\n"
     ]
    }
   ],
   "source": [
    "# Problem 4 - Prefix Counting\n",
    "\n",
    "s = [3, 14, 25, 32, 40, 45, 52, 55, 59, 65, 68, 69, 81, 86, 94]\n",
    "\n",
    "def prefix(S, v):\n",
    "    left = 0\n",
    "    right = len(S) - 1\n",
    "    while right >= left:\n",
    "        mid = (right + left) // 2\n",
    "        # print(str(left)+\" \"+str(mid)+\" \"+str(right))\n",
    "        if S[mid] == v:\n",
    "            return mid\n",
    "        elif S[mid] > v:\n",
    "            right = mid - 1\n",
    "        elif S[mid] < v:\n",
    "            left = mid + 1\n",
    "    return mid\n",
    "\n",
    "print(prefix(s, 25))\n",
    "print(prefix(s, 33))"
   ]
  },
  {
   "cell_type": "code",
   "execution_count": 50,
   "metadata": {
    "collapsed": false
   },
   "outputs": [
    {
     "name": "stdout",
     "output_type": "stream",
     "text": [
      "yes\n"
     ]
    }
   ],
   "source": [
    "# Problem 5 - 3-Sum Problem\n",
    "\n",
    "s = [3, 14, 25, 32, 40, 45, 52, 55, 59, 65, 68, 69, 81, 86, 94]\n",
    "\n",
    "def three_sum(S, v):\n",
    "    n = len(S) - 1\n",
    "    left = 0\n",
    "    right = n - 1\n",
    "    p = permutations(S, 3)\n",
    "    for trip in p:\n",
    "        if sum(trip) == v:\n",
    "            return \"yes\"\n",
    "    return \"no\"\n",
    "\n",
    "print(three_sum(s, 42))"
   ]
  },
  {
   "cell_type": "code",
   "execution_count": 51,
   "metadata": {
    "collapsed": false
   },
   "outputs": [
    {
     "name": "stdout",
     "output_type": "stream",
     "text": [
      "yes\n",
      "no\n",
      "yes\n"
     ]
    }
   ],
   "source": [
    "# Problem 6\n",
    "\n",
    "s = [3, 14, 25, 32, 40, 45, 52, 55, 59, 65, 68, 69, 81, 86, 94]\n",
    "\n",
    "def better_three_sum(S, v):\n",
    "    n = len(S) - 1\n",
    "    left = 0\n",
    "    right = n - 1\n",
    "    for i in range(len(S)):\n",
    "        y = v - S[i]\n",
    "        if better_two_ints(S[0:i]+S[i+1:], y):\n",
    "            return \"yes\"\n",
    "    return \"no\"\n",
    "\n",
    "print(better_three_sum(s, 42))\n",
    "print(better_three_sum(s, 43))\n",
    "print(better_three_sum(s, 104))"
   ]
  },
  {
   "cell_type": "markdown",
   "metadata": {},
   "source": [
    "### Tutorial 1\n",
    "-  Compiler translates programming language into assembly.\n",
    "-  Assembly will determine what atomic operations are performed.\n",
    "-  Assembly differs based on CPU architecture.\n",
    "-  While we can use the number of (programming language) statements as a rough guide, we don't usually as actual operations performed will depend on the compiler and hardware being used (this process is generally abstracted away).\n",
    "##### Sum of Two Integers Problem\n",
    "There is a sequence of n positive integers in strictly increasing order in memory at the cells numbered from 1 up to n. The value n has been placed in Register 1, and the a positive integer v has been placed in Register 2.\n",
    "Determine whether if there exist two integers x and y (not necessarily distinct) in the sorted sequence such that x + y = v."
   ]
  },
  {
   "cell_type": "code",
   "execution_count": 52,
   "metadata": {
    "collapsed": false
   },
   "outputs": [
    {
     "name": "stdout",
     "output_type": "stream",
     "text": [
      "yes\n"
     ]
    }
   ],
   "source": [
    "#  Naïve Attempt (n**2)\n",
    "s = [2, 3, 5, 7, 11, 13, 17, 19, 23, 29, 31, 37]\n",
    "\n",
    "from itertools import permutations\n",
    "\n",
    "def two_ints(S, v):\n",
    "    p = permutations(S, 2)\n",
    "    for pair in p:\n",
    "        if pair[0] + pair[1] == v:\n",
    "            return \"yes\"\n",
    "    return \"no\"\n",
    "\n",
    "print(two_ints(s, 30))"
   ]
  },
  {
   "cell_type": "code",
   "execution_count": 53,
   "metadata": {
    "collapsed": false
   },
   "outputs": [
    {
     "name": "stdout",
     "output_type": "stream",
     "text": [
      "True\n",
      "False\n"
     ]
    }
   ],
   "source": [
    "#  Binary Search Attempt (n + log(n))\n",
    "def binary_two_ints(S, v):\n",
    "    for x in S:\n",
    "        y = v - x\n",
    "        if binary(len(S), y, S):\n",
    "            return True\n",
    "    return False\n",
    "print(binary_two_ints(s, 30))\n",
    "print(binary_two_ints(s, 1))"
   ]
  },
  {
   "cell_type": "code",
   "execution_count": 54,
   "metadata": {
    "collapsed": false,
    "scrolled": true
   },
   "outputs": [
    {
     "name": "stdout",
     "output_type": "stream",
     "text": [
      "True\n",
      "False\n"
     ]
    }
   ],
   "source": [
    "#  An Even Better Solution (n)\n",
    "def better_two_ints(S, v):\n",
    "    n = len(S) - 1\n",
    "    left = 0\n",
    "    right = n\n",
    "    while left != right:\n",
    "        if S[left] + S[right] == v:\n",
    "            return True\n",
    "        elif S[left] + S[right] > v:\n",
    "            right -= 1\n",
    "        else:\n",
    "            left += 1\n",
    "    return False\n",
    "\n",
    "print(better_two_ints(s, 30))\n",
    "print(better_two_ints(s, 1))"
   ]
  },
  {
   "cell_type": "markdown",
   "metadata": {},
   "source": [
    "### Lecture 4 (Recursion)"
   ]
  },
  {
   "cell_type": "markdown",
   "metadata": {},
   "source": [
    "Recursion is based on two steps:\n",
    "    1.  Base Case:\n",
    "        -  Solve the case where the problem size is n = 1 and n = 0 (usually trivial).\n",
    "    2.  Inductive Case:\n",
    "        -  Solve the problem with problem size n > 1 by reducing n.\n",
    "    \n",
    "#### Binary Search Example\n",
    "Inductive Step:\n",
    "    -  v = search term\n",
    "    -  e = middle element of array\n",
    "    -  if v = e, return True\n",
    "    -  else:\n",
    "        -  If v < e, solve the problem in the part of S before e.\n",
    "        -  If v > e, solve the problem in the part of S after e.\n",
    "\n",
    "#### The Sorting Problem\n",
    "A set of n integers is given in an array of length n. The value of n is inside the CPU (i.e. in a register). Design an algorithm to store S in an array where the elements have been arranged in ascending order.\n",
    "\n",
    "##### Selection Sort\n",
    "Base Case (n = 1):\n",
    "\n",
    "1.  nothing to sort.\n",
    "\n",
    "Inductive Case (n > 1):\n",
    "\n",
    "1.  Scan all the elements in the array to identify the largest one ( $e_{max}$ ).\n",
    "\n",
    "2.  Swap the positions of $e_{max}$ and the last element of the array.\n",
    "\n",
    "3.  Sort the first n - 1 elements.\n",
    "\n",
    "Running Time: \n",
    "    1.  Base case: $ f(n) = O(1) $\n",
    "    2.  Inductive Case: $ f(n) \\leq O(n) + f(n - 1)\n",
    "\n",
    "$$c_2 \\cdot (\\frac{n\\cdot(n + 1)}{2}) + c_1$$\n",
    "\n",
    "$$= O(n^2)$$"
   ]
  },
  {
   "cell_type": "markdown",
   "metadata": {
    "collapsed": true
   },
   "source": [
    "### Lecture 5 (Merge Sort)\n",
    "\n",
    "Merge sort uses recursion to sort an array in $O(n log n ))$ time.\n",
    "\n",
    "-  Base Case:\n",
    "    -  If n = 1, nothing to Sort\n",
    "-  Inductive Case:\n",
    "    -  Recursively sort the first half of the array.\n",
    "    -  Recursively sort the second half of the array.\n",
    "    -  Merge the two halves into the final sorted sequence.\n",
    "           -  Repeat the following until i > n/2 or j > n/2:\n",
    "               -  If $A_1[i]$ < $A_2[j]$, append $A_1[i]$ to A; i++;\n",
    "               -  Else: append $A_2[j]$ to A; j++;\n",
    "\n",
    "Running Time:\n",
    "    -  Base Case: \n",
    "$$f(n) = O(1)$$\n",
    "    -  Inductive Case:\n",
    "\n",
    "$$ f(n) \\leq 2f(n/2) + O(n) $$\n",
    "$$ f(n) \\leq 2^i f(n/2^i) + i \\cdot c_2 n $$\n",
    "$$ (h = log_2 n) $$\n",
    "$$ 2^hf(1) + h \\cdot c_2 n$$\n",
    "$$ n \\cdot c_1 + c_2 n \\cdot log_2 n = O(nlogn) $$\n",
    "\n",
    "This represents the best running time for any comparison-based approach to the sorting problem (i.e. every comparison-based algorithm must incur $\\Omega(nlogn)$ time)."
   ]
  },
  {
   "cell_type": "code",
   "execution_count": null,
   "metadata": {
    "collapsed": true
   },
   "outputs": [],
   "source": []
  }
 ],
 "metadata": {
  "kernelspec": {
   "display_name": "Python 3",
   "language": "python",
   "name": "python3"
  },
  "language_info": {
   "codemirror_mode": {
    "name": "ipython",
    "version": 3
   },
   "file_extension": ".py",
   "mimetype": "text/x-python",
   "name": "python",
   "nbconvert_exporter": "python",
   "pygments_lexer": "ipython3",
   "version": "3.6.0"
  }
 },
 "nbformat": 4,
 "nbformat_minor": 2
}
