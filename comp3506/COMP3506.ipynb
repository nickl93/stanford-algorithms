{
 "cells": [
  {
   "cell_type": "markdown",
   "metadata": {},
   "source": [
    "# COMP3506 - Data Structures & Algorithms\n"
   ]
  },
  {
   "cell_type": "markdown",
   "metadata": {},
   "source": [
    "## Week 1"
   ]
  },
  {
   "cell_type": "markdown",
   "metadata": {},
   "source": [
    "### Lecture 1\n",
    "__Memory (abstraction):__ an infinite sequence of cells of size w (bits), where each cell has an address (starting at 1).\n",
    "\n",
    "__CPU:__ contains registers of size w (bits) - 32 in this course.\n",
    "-  Can complete four atomic operations:    \n",
    "    1.  Register (Re-)Initialisation:\n",
    "        -  Set a register to a fixed value or to the contents of another register\n",
    "    2.  Arithmetic:\n",
    "        -  Take values from two registers and perform arithmetic opertations, storing the result in a register.\n",
    "    3.  Comparison/Branching:\n",
    "        -  Compare the values of two registers.\n",
    "    4.  Memory Access:\n",
    "        -  Take a memory address A, stored in a register, and either:\n",
    "            -  Read the contents of the memory address A into another (overwriting the existing contents).\n",
    "            -  Write the contents of another register into the memory cell with address A (overwriting the existing contents).\n",
    "            \n",
    "__Algorithm:__ a sequence of atomic operations.\n",
    "\n",
    "__Cost:__ the length of an algorithm sequence (i.e. the number of atomic operations.\n",
    "\n",
    "__Word:__ a sequence of w bits (where w is the word length)."
   ]
  },
  {
   "cell_type": "markdown",
   "metadata": {},
   "source": [
    "### Lecture 2\n",
    "__Worst-Case Running Time (of an algorithm):__ is the largest running time of the algorithm (under a problem size n) on all (possibly infinite) distinct inputs of size n.\n",
    "\n",
    "##### Binary Search (Pseudocode)\n",
    "```\n",
    "1.  let r1 = n,  r2 = v\n",
    "2.  left <- 1, right <- n\n",
    "3.  while left <= right\n",
    "4.      mid <- (left+right)/2\n",
    "5.      if mid == v:\n",
    "6.          return \"yes\"\n",
    "7.      else if mid > v:\n",
    "8.          right = mid - 1\n",
    "9.      else\n",
    "10.         left = mid + 1\n",
    "11.  return \"no\"\n",
    "```\n",
    "\n",
    "##### Binary Search (Python Implementation)"
   ]
  },
  {
   "cell_type": "code",
   "execution_count": 44,
   "metadata": {
    "collapsed": true
   },
   "outputs": [],
   "source": [
    "S = [3, 4, 12, 37, 64, 119, 131, 133, 187, 224, 233, 267, 307, 344, 353, 377, 382, 395, 449, 465, 471, 477, 490, 499, 509, 536, 559, 574, 593, 609, 642, 686, 692, 705, 713, 718, 730, 784, 803, 849, 882, 898, 919, 949, 954, 956, 969, 976, 990, 996]"
   ]
  },
  {
   "cell_type": "code",
   "execution_count": 45,
   "metadata": {
    "collapsed": false
   },
   "outputs": [
    {
     "name": "stdout",
     "output_type": "stream",
     "text": [
      "True\n",
      "False\n"
     ]
    }
   ],
   "source": [
    "n = 50\n",
    "v = 609\n",
    "not_v = 610\n",
    "\n",
    "def binary(n, v, S):\n",
    "    left = 0\n",
    "    right = n - 1\n",
    "    while left <= right:\n",
    "        mid = (left + right)//2\n",
    "        # print (\"l: \" + str(left) + \" r: \" + str(right) + \" m: \" + str(mid))\n",
    "        if S[mid] == v:\n",
    "            return True\n",
    "        elif S[mid] > v:\n",
    "            right = mid - 1\n",
    "        else:\n",
    "            left = mid + 1\n",
    "    return False\n",
    "\n",
    "print(binary(n, v, S))\n",
    "print(binary(n, not_v, S))"
   ]
  },
  {
   "cell_type": "markdown",
   "metadata": {},
   "source": [
    "### Lecture 3\n",
    "\n"
   ]
  },
  {
   "cell_type": "markdown",
   "metadata": {},
   "source": [
    "### Tutorial 1\n",
    "-  Compiler translates programming language into assembly.\n",
    "-  Assembly will determine what atomic operations are performed.\n",
    "-  Assembly differs based on CPU architecture.\n",
    "-  While we can use the number of (programming language) statements as a rough guide, we don't usually as actual operations performed will depend on the compiler and hardware being used (this process is generally abstracted away).\n",
    "##### Sum of Two Integers Problem\n",
    "There is a sequence of n positive integers in strictly increasing order in memory at the cells numbered from 1 up to n. The value n has been placed in Register 1, and the a positive integer v has been placed in Register 2.\n",
    "Determine whether if there exist two integers x and y (not necessarily distinct) in the sorted sequence such that x + y = v."
   ]
  },
  {
   "cell_type": "code",
   "execution_count": 46,
   "metadata": {
    "collapsed": false
   },
   "outputs": [
    {
     "name": "stdout",
     "output_type": "stream",
     "text": [
      "no\n"
     ]
    }
   ],
   "source": [
    "#  Naïve Attempt (n**2)\n",
    "s = [2, 3, 5, 7, 11, 13, 17, 19, 23, 29, 31, 37]\n",
    "\n",
    "from itertools import permutations\n",
    "\n",
    "def two_ints(s, v):\n",
    "    p = permutations(S, 2)\n",
    "    for pair in p:\n",
    "        if pair[0] + pair[1] == v:\n",
    "            return \"yes\"\n",
    "    return \"no\"\n",
    "\n",
    "print(two_ints(s, 30))"
   ]
  },
  {
   "cell_type": "code",
   "execution_count": 47,
   "metadata": {
    "collapsed": false
   },
   "outputs": [
    {
     "name": "stdout",
     "output_type": "stream",
     "text": [
      "True\n",
      "False\n"
     ]
    }
   ],
   "source": [
    "#  Binary Search Attempt (n + log(n))\n",
    "def binary_two_ints(S, v):\n",
    "    for x in S:\n",
    "        y = v - x\n",
    "        if binary(len(S), y, S):\n",
    "            return True\n",
    "    return False\n",
    "print(binary_two_ints(s, 30))\n",
    "print(binary_two_ints(s, 1))"
   ]
  },
  {
   "cell_type": "code",
   "execution_count": 48,
   "metadata": {
    "collapsed": false
   },
   "outputs": [
    {
     "name": "stdout",
     "output_type": "stream",
     "text": [
      "True\n",
      "False\n"
     ]
    }
   ],
   "source": [
    "#  An Even Better Solution (n)\n",
    "def better_two_ints(S, v):\n",
    "    n = len(S) - 1\n",
    "    left = 0\n",
    "    right = n\n",
    "    while left != right:\n",
    "        if S[left] + S[right] == v:\n",
    "            return True\n",
    "        elif S[left] + S[right] > v:\n",
    "            right -= 1\n",
    "        else:\n",
    "            left += 1\n",
    "    return False\n",
    "\n",
    "print(better_two_ints(s, 30))\n",
    "print(better_two_ints(s, 1))"
   ]
  },
  {
   "cell_type": "markdown",
   "metadata": {},
   "source": [
    "## Week 2\n",
    "### Exercises\n"
   ]
  },
  {
   "cell_type": "code",
   "execution_count": null,
   "metadata": {
    "collapsed": true
   },
   "outputs": [],
   "source": []
  }
 ],
 "metadata": {
  "kernelspec": {
   "display_name": "Python 3",
   "language": "python",
   "name": "python3"
  },
  "language_info": {
   "codemirror_mode": {
    "name": "ipython",
    "version": 3
   },
   "file_extension": ".py",
   "mimetype": "text/x-python",
   "name": "python",
   "nbconvert_exporter": "python",
   "pygments_lexer": "ipython3",
   "version": "3.6.0"
  }
 },
 "nbformat": 4,
 "nbformat_minor": 2
}
