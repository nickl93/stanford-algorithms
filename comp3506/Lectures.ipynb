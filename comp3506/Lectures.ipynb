{
 "cells": [
  {
   "cell_type": "markdown",
   "metadata": {},
   "source": [
    "# COMP3506 - Data Structures & Algorithms\n"
   ]
  },
  {
   "cell_type": "markdown",
   "metadata": {},
   "source": [
    "## Week 1"
   ]
  },
  {
   "cell_type": "markdown",
   "metadata": {},
   "source": [
    "### Lecture 1 (The RAM Model)\n",
    "__Memory (abstraction):__ an infinite sequence of cells of size w (bits), where each cell has an address (starting at 1).\n",
    "\n",
    "__CPU:__ contains registers of size w (bits) - 32 in this course.\n",
    "-  Can complete four atomic operations:    \n",
    "    1.  Register (Re-)Initialisation:\n",
    "        -  Set a register to a fixed value or to the contents of another register\n",
    "    2.  Arithmetic:\n",
    "        -  Take values from two registers and perform arithmetic opertations, storing the result in a register.\n",
    "    3.  Comparison/Branching:\n",
    "        -  Compare the values of two registers.\n",
    "    4.  Memory Access:\n",
    "        -  Take a memory address A, stored in a register, and either:\n",
    "            -  Read the contents of the memory address A into another (overwriting the existing contents).\n",
    "            -  Write the contents of another register into the memory cell with address A (overwriting the existing contents).\n",
    "            \n",
    "__Algorithm:__ a sequence of atomic operations.\n",
    "\n",
    "__Cost:__ the length of an algorithm sequence (i.e. the number of atomic operations.\n",
    "\n",
    "__Word:__ a sequence of w bits (where w is the word length)."
   ]
  },
  {
   "cell_type": "markdown",
   "metadata": {},
   "source": [
    "### Lecture 2 (Binary Search)\n",
    "__Worst-Case Running Time (of an algorithm):__ is the largest running time of the algorithm (under a problem size n) on all (possibly infinite) distinct inputs of size n.\n",
    "\n",
    "##### Binary Search (Pseudocode)\n",
    "```\n",
    "1.  let r1 = n,  r2 = v\n",
    "2.  left <- 1, right <- n\n",
    "3.  while left <= right\n",
    "4.      mid <- (left+right)/2\n",
    "5.      if mid == v:\n",
    "6.          return \"yes\"\n",
    "7.      else if mid > v:\n",
    "8.          right = mid - 1\n",
    "9.      else\n",
    "10.         left = mid + 1\n",
    "11.  return \"no\"\n",
    "```\n",
    "\n",
    "##### Binary Search (Python Implementation)"
   ]
  },
  {
   "cell_type": "code",
   "execution_count": 45,
   "metadata": {
    "collapsed": true
   },
   "outputs": [],
   "source": [
    "S = [3, 4, 12, 37, 64, 119, 131, 133, 187, 224, 233, 267, 307, 344, 353, 377, 382, 395, 449, 465, 471, 477, 490, 499, 509, 536, 559, 574, 593, 609, 642, 686, 692, 705, 713, 718, 730, 784, 803, 849, 882, 898, 919, 949, 954, 956, 969, 976, 990, 996]"
   ]
  },
  {
   "cell_type": "code",
   "execution_count": 46,
   "metadata": {
    "collapsed": false
   },
   "outputs": [
    {
     "name": "stdout",
     "output_type": "stream",
     "text": [
      "True\n",
      "False\n"
     ]
    }
   ],
   "source": [
    "n = 50\n",
    "v = 609\n",
    "not_v = 610\n",
    "\n",
    "def binary(n, v, S):\n",
    "    left = 0\n",
    "    right = n - 1\n",
    "    while left <= right:\n",
    "        mid = (left + right)//2\n",
    "        # print (\"l: \" + str(left) + \" r: \" + str(right) + \" m: \" + str(mid))\n",
    "        if S[mid] == v:\n",
    "            return True\n",
    "        elif S[mid] > v:\n",
    "            right = mid - 1\n",
    "        else:\n",
    "            left = mid + 1\n",
    "    return False\n",
    "\n",
    "print(binary(n, v, S))\n",
    "print(binary(n, not_v, S))"
   ]
  },
  {
   "cell_type": "markdown",
   "metadata": {},
   "source": [
    "### Lecture 3 (Asymptotic Notation)\n",
    "General rule of thumb is to focus on the largest term.\n",
    "Why?\n",
    "\n",
    "    -  Atomic operations differ in time.\n",
    "    -  Makes for a much simpler calculation.\n",
    "    -  Focus on performance as n -> infinity , makes constants irrelevant.\n",
    "    -  Overall objective is to minimise growth in running time.\n",
    "\n",
    "##### Big O Notation\n",
    "Take $f(n)$ and $g(n)$ as two functions on $n$.\n",
    "$f(n)$ grows asymptotically no faster than $g(n)$ if there is a constant $c_1 > 0$ such that $f(n) \\leq c_1 * g(n)$ holds $\\forall n \\geq c_2$, where $c_2$ is a constant.\n",
    "\n",
    "This is denoted as $f(n) = O(g(n))$.\n",
    "\n",
    "e.g.\n",
    "\n",
    "<div style=\"text-align:center;\">\n",
    "$ 10n = O(5n) $ <br/>\n",
    "choose constants $c_1 = 2, c_2 = 1$ <br/>\n",
    "$10n \\leq 2 \\cdot 5n$ <br/>\n",
    "$10n \\leq 10n \\,\\forall\\, n \\geq c_2 = 1.$\n",
    "</div>\n",
    "\n",
    "##### Big $\\Omega$ Notation\n",
    "Take $f(n)$ and $g(n)$ as two functions on $n$.\n",
    "$f(n)$ grows asymptotically no slower than $g(n)$ if there is a constant $c_1 > 0$ such that $f(n) \\geq c_1 * g(n)$ holds $\\forall n \\geq c_2$, where $c_2$ is a constant (Think lower bound, though that's not technically correct, or $f(n)$ will be faster or equal to $g(n)$).\n",
    "\n",
    "This is denoted as $f(n) = \\Omega(g(n))$.\n",
    "\n",
    "e.g. \n",
    "\n",
    "<div style=\"text-align:center;\">\n",
    "$ log_2 n = \\Omega(1) $ <br/>\n",
    "show that $log_2 n \\geq c_1 \\cdot 1 $ <br/>\n",
    "let $c_1 = 1, c_2 = 3$ <br />\n",
    "$log_2 3 > 1 \\geq 1 $  \n",
    "</div>\n",
    "\n",
    "##### Big $\\Theta$ Notation\n",
    "If $f(n) = O(g(n))$ and $f(n) = \\Omega(g(n)$, then:\n",
    "\n",
    "$ f(n) = \\Theta(g(n)) $\n",
    "\n",
    "and $f(n)$ is said to grow __asymptotically as fast as__ $g(n)$.\n",
    "\n",
    "e.g. \n",
    "\n",
    "<div style=\"text-align:center;\">\n",
    "First, show Big O: <br/ >\n",
    "$n^2 + 2n + 1 = O(n^2) $<br/>\n",
    "show that $n^2 + 2n + 1 \\leq c_1 \\cdot n^2\\, \\forall\\, n \\geq c_2$ <br/>\n",
    "let $c_1 = 5$ and $c_2 = 1$ <br/>\n",
    "$ n^2 + 2n + 1 \\leq 5 \\cdot n^2 $ holds. <br/>\n",
    "<br />\n",
    "Then, show Big $\\Theta$: <br/>\n",
    "$n^2 + 2n + 1 \\geq c_1 \\cdot n^2 \\, \\forall \\, n\\geq c_2 > 0 $ <br/>\n",
    "let $c_1 = 1, c_2 = 1$ <br/>\n",
    "$n^2 + 2n + 1 \\geq n^2 $ <br/>\n",
    "</div>"
   ]
  },
  {
   "cell_type": "markdown",
   "metadata": {},
   "source": [
    "## Week 2\n",
    "### Exercises\n"
   ]
  },
  {
   "cell_type": "code",
   "execution_count": 1,
   "metadata": {
    "collapsed": false
   },
   "outputs": [
    {
     "name": "stdout",
     "output_type": "stream",
     "text": [
      "4\n"
     ]
    }
   ],
   "source": [
    "# Problem 1 - Compute value of floor(log2n) in no more than 100log2n time.\n",
    "r = 17.5678293\n",
    "\n",
    "def log_floor(r):\n",
    "    i = 1\n",
    "    while 2**i < r:\n",
    "        i += 1\n",
    "    return i-1\n",
    "\n",
    "print(log_floor(r))"
   ]
  },
  {
   "cell_type": "markdown",
   "metadata": {},
   "source": [
    "###### Problem 2\n",
    "Binary search works by setting pointers to the leftmost and rightmost elements (3 and 94, respectively). It then find the middle element (52). If that middle element is the search value (35), the search returns. Given that it's not, and the middle element is greater than the search term, the right element is adjusted to one left of the middle term (45; effectively discarding half the search input). As the middle is not the search term, the middle is calculated again (25), given that it is too low, the left index is recalculated to the middle + 1 (26; discarding the left half). The middle is again calculated (32). It is less than the search term, so the left index is recalculated to middle + 1 (40). The middle is 40, higher than the search term, so the right is recalculated to the middle - 1. Now the right index is no longer greater than the left and the search term has not been found, hence the search term is not in the search set."
   ]
  },
  {
   "cell_type": "code",
   "execution_count": 48,
   "metadata": {
    "collapsed": false
   },
   "outputs": [
    {
     "name": "stdout",
     "output_type": "stream",
     "text": [
      "94\n",
      "25\n"
     ]
    }
   ],
   "source": [
    "# Problem 3 - Predecessor\n",
    "\n",
    "s = [3, 14, 25, 32, 40, 45, 52, 55, 59, 65, 68, 69, 81, 86, 94]\n",
    "\n",
    "def predec(S, v):\n",
    "    left = 0\n",
    "    right = len(S) - 1\n",
    "    while right >= left:\n",
    "        mid = (right + left) // 2\n",
    "        # print(str(left)+\" \"+str(mid)+\" \"+str(right))\n",
    "        if S[mid] == v:\n",
    "            return S[mid] \n",
    "        elif S[mid] > v:\n",
    "            right = mid - 1\n",
    "        elif S[mid] < v:\n",
    "            left = mid + 1\n",
    "    if S[mid] < v:\n",
    "        return S[mid]\n",
    "    else:\n",
    "        return None\n",
    "\n",
    "print(predec(s, 1000))\n",
    "print(predec(s, 25))"
   ]
  },
  {
   "cell_type": "code",
   "execution_count": 49,
   "metadata": {
    "collapsed": false
   },
   "outputs": [
    {
     "name": "stdout",
     "output_type": "stream",
     "text": [
      "2\n",
      "4\n"
     ]
    }
   ],
   "source": [
    "# Problem 4 - Prefix Counting\n",
    "\n",
    "s = [3, 14, 25, 32, 40, 45, 52, 55, 59, 65, 68, 69, 81, 86, 94]\n",
    "\n",
    "def prefix(S, v):\n",
    "    left = 0\n",
    "    right = len(S) - 1\n",
    "    while right >= left:\n",
    "        mid = (right + left) // 2\n",
    "        # print(str(left)+\" \"+str(mid)+\" \"+str(right))\n",
    "        if S[mid] == v:\n",
    "            return mid\n",
    "        elif S[mid] > v:\n",
    "            right = mid - 1\n",
    "        elif S[mid] < v:\n",
    "            left = mid + 1\n",
    "    return mid\n",
    "\n",
    "print(prefix(s, 25))\n",
    "print(prefix(s, 33))"
   ]
  },
  {
   "cell_type": "code",
   "execution_count": 50,
   "metadata": {
    "collapsed": false
   },
   "outputs": [
    {
     "name": "stdout",
     "output_type": "stream",
     "text": [
      "yes\n"
     ]
    }
   ],
   "source": [
    "# Problem 5 - 3-Sum Problem\n",
    "\n",
    "s = [3, 14, 25, 32, 40, 45, 52, 55, 59, 65, 68, 69, 81, 86, 94]\n",
    "\n",
    "def three_sum(S, v):\n",
    "    n = len(S) - 1\n",
    "    left = 0\n",
    "    right = n - 1\n",
    "    p = permutations(S, 3)\n",
    "    for trip in p:\n",
    "        if sum(trip) == v:\n",
    "            return \"yes\"\n",
    "    return \"no\"\n",
    "\n",
    "print(three_sum(s, 42))"
   ]
  },
  {
   "cell_type": "code",
   "execution_count": 51,
   "metadata": {
    "collapsed": false
   },
   "outputs": [
    {
     "name": "stdout",
     "output_type": "stream",
     "text": [
      "yes\n",
      "no\n",
      "yes\n"
     ]
    }
   ],
   "source": [
    "# Problem 6\n",
    "\n",
    "s = [3, 14, 25, 32, 40, 45, 52, 55, 59, 65, 68, 69, 81, 86, 94]\n",
    "\n",
    "def better_three_sum(S, v):\n",
    "    n = len(S) - 1\n",
    "    left = 0\n",
    "    right = n - 1\n",
    "    for i in range(len(S)):\n",
    "        y = v - S[i]\n",
    "        if better_two_ints(S[0:i]+S[i+1:], y):\n",
    "            return \"yes\"\n",
    "    return \"no\"\n",
    "\n",
    "print(better_three_sum(s, 42))\n",
    "print(better_three_sum(s, 43))\n",
    "print(better_three_sum(s, 104))"
   ]
  },
  {
   "cell_type": "markdown",
   "metadata": {},
   "source": [
    "### Tutorial 1\n",
    "-  Compiler translates programming language into assembly.\n",
    "-  Assembly will determine what atomic operations are performed.\n",
    "-  Assembly differs based on CPU architecture.\n",
    "-  While we can use the number of (programming language) statements as a rough guide, we don't usually as actual operations performed will depend on the compiler and hardware being used (this process is generally abstracted away).\n",
    "##### Sum of Two Integers Problem\n",
    "There is a sequence of n positive integers in strictly increasing order in memory at the cells numbered from 1 up to n. The value n has been placed in Register 1, and the a positive integer v has been placed in Register 2.\n",
    "Determine whether if there exist two integers x and y (not necessarily distinct) in the sorted sequence such that x + y = v."
   ]
  },
  {
   "cell_type": "code",
   "execution_count": 52,
   "metadata": {
    "collapsed": false
   },
   "outputs": [
    {
     "name": "stdout",
     "output_type": "stream",
     "text": [
      "yes\n"
     ]
    }
   ],
   "source": [
    "#  Naïve Attempt (n**2)\n",
    "s = [2, 3, 5, 7, 11, 13, 17, 19, 23, 29, 31, 37]\n",
    "\n",
    "from itertools import permutations\n",
    "\n",
    "def two_ints(S, v):\n",
    "    p = permutations(S, 2)\n",
    "    for pair in p:\n",
    "        if pair[0] + pair[1] == v:\n",
    "            return \"yes\"\n",
    "    return \"no\"\n",
    "\n",
    "print(two_ints(s, 30))"
   ]
  },
  {
   "cell_type": "code",
   "execution_count": 53,
   "metadata": {
    "collapsed": false
   },
   "outputs": [
    {
     "name": "stdout",
     "output_type": "stream",
     "text": [
      "True\n",
      "False\n"
     ]
    }
   ],
   "source": [
    "#  Binary Search Attempt (n + log(n))\n",
    "def binary_two_ints(S, v):\n",
    "    for x in S:\n",
    "        y = v - x\n",
    "        if binary(len(S), y, S):\n",
    "            return True\n",
    "    return False\n",
    "print(binary_two_ints(s, 30))\n",
    "print(binary_two_ints(s, 1))"
   ]
  },
  {
   "cell_type": "code",
   "execution_count": 54,
   "metadata": {
    "collapsed": false,
    "scrolled": true
   },
   "outputs": [
    {
     "name": "stdout",
     "output_type": "stream",
     "text": [
      "True\n",
      "False\n"
     ]
    }
   ],
   "source": [
    "#  An Even Better Solution (n)\n",
    "def better_two_ints(S, v):\n",
    "    n = len(S) - 1\n",
    "    left = 0\n",
    "    right = n\n",
    "    while left != right:\n",
    "        if S[left] + S[right] == v:\n",
    "            return True\n",
    "        elif S[left] + S[right] > v:\n",
    "            right -= 1\n",
    "        else:\n",
    "            left += 1\n",
    "    return False\n",
    "\n",
    "print(better_two_ints(s, 30))\n",
    "print(better_two_ints(s, 1))"
   ]
  },
  {
   "cell_type": "markdown",
   "metadata": {},
   "source": [
    "## Week 2\n",
    "### Lecture 4 (Recursion)"
   ]
  },
  {
   "cell_type": "markdown",
   "metadata": {},
   "source": [
    "Recursion is based on two steps:\n",
    "    1.  Base Case:\n",
    "        -  Solve the case where the problem size is n = 1 and n = 0 (usually trivial).\n",
    "    2.  Inductive Case:\n",
    "        -  Solve the problem with problem size n > 1 by reducing n.\n",
    "    \n",
    "#### Binary Search Example\n",
    "Inductive Step:\n",
    "    -  v = search term\n",
    "    -  e = middle element of array\n",
    "    -  if v = e, return True\n",
    "    -  else:\n",
    "        -  If v < e, solve the problem in the part of S before e.\n",
    "        -  If v > e, solve the problem in the part of S after e.\n",
    "\n",
    "#### The Sorting Problem\n",
    "A set of n integers is given in an array of length n. The value of n is inside the CPU (i.e. in a register). Design an algorithm to store S in an array where the elements have been arranged in ascending order.\n",
    "\n",
    "##### Selection Sort\n",
    "Base Case (n = 1):\n",
    "\n",
    "1.  nothing to sort.\n",
    "\n",
    "Inductive Case (n > 1):\n",
    "\n",
    "1.  Scan all the elements in the array to identify the largest one ( $e_{max}$ ).\n",
    "\n",
    "2.  Swap the positions of $e_{max}$ and the last element of the array.\n",
    "\n",
    "3.  Sort the first n - 1 elements.\n",
    "\n",
    "Running Time: \n",
    "    1.  Base case: $ f(n) = O(1) $\n",
    "    2.  Inductive Case: $ f(n) \\leq O(n) + f(n - 1)\n",
    "\n",
    "$$c_2 \\cdot (\\frac{n\\cdot(n + 1)}{2}) + c_1$$\n",
    "\n",
    "$$= O(n^2)$$"
   ]
  },
  {
   "cell_type": "markdown",
   "metadata": {
    "collapsed": true
   },
   "source": [
    "### Lecture 5 (Merge Sort)\n",
    "\n",
    "Merge sort uses recursion to sort an array in $O(n log n ))$ time.\n",
    "\n",
    "-  Base Case:\n",
    "    -  If n = 1, nothing to Sort\n",
    "-  Inductive Case:\n",
    "    -  Recursively sort the first half of the array.\n",
    "    -  Recursively sort the second half of the array.\n",
    "    -  Merge the two halves into the final sorted sequence.\n",
    "          -  Repeat the following until i > n/2 or j > n/2:\n",
    "              -  If $A_1[i]$ < $A_2[j]$, append $A_1[i]$ to A; i++;\n",
    "              -  Else: append $A_2[j]$ to A; j++;\n",
    "\n",
    "Running Time:\n",
    "    -  Base Case: \n",
    "$$f(n) = O(1)$$\n",
    "    -  Inductive Case:\n",
    "\n",
    "$$ f(n) \\leq 2f(n/2) + O(n) $$\n",
    "$$ f(n) \\leq 2^i f(n/2^i) + i \\cdot c_2 n $$\n",
    "$$ (h = log_2 n) $$\n",
    "$$ 2^hf(1) + h \\cdot c_2 n$$\n",
    "$$ n \\cdot c_1 + c_2 n \\cdot log_2 n = O(nlogn) $$\n",
    "\n",
    "This represents the best running time for any comparison-based approach to the sorting problem (i.e. every comparison-based algorithm must incur $\\Omega(nlogn)$ time)."
   ]
  },
  {
   "cell_type": "markdown",
   "metadata": {
    "collapsed": true
   },
   "source": [
    "### Lecture 6 (Quick Sort)\n",
    "Advantages of randomised algorithms:\n",
    "-  May be simpler\n",
    "-  May have a better performance guarantee in expectation\n",
    "\n",
    "Randomisation requires us to modify the RAM model by adding one more operation:\n",
    "1.  RANDOM(x, y): given integers x and y $(x \\leq y)$, return an integer chosen uniformly at random from [x, y].\n",
    "\n",
    "#### Quick Sort \n",
    "Base Case:\n",
    "1.  If n = 1, return.\n",
    "\n",
    "Inductive Case:\n",
    "1.  Pick an integer p in A, called the pivot, using RANDOM(1, n) - O(1).\n",
    "2.  Re-arrange all integers smaller than p before p in A'.\n",
    "3.  Re-arrange all integers greater than p after p in A'.\n",
    "4.  Sort the part of A' before p recursively.\n",
    "5.  Sort the part of A' after p recursively.\n",
    "    \n",
    "Running Time:\n",
    "-  Worst case: $O(n^2)$\n",
    "-  Expected (due to randomisation): $O(nlogn)$\n"
   ]
  },
  {
   "cell_type": "markdown",
   "metadata": {},
   "source": [
    "## Week 3\n",
    "\n",
    "### Lecture 7 (Lower Bounds of (non-)Comparison-based sorting)\n",
    "All comparison-based sorting elements must operate in at least $\\Omega(nlogn)$ time.\n",
    "Proof:\n",
    "-  There are n! permutaions of a list, only one of these is the correct order.\n",
    "-  A comparison-based algorithm works by shrinking the pool of permutations by comparison until there is only the correct permutation remaining.\n",
    "-  Each comparison removes (in the worst case) $\\lfloor n/2 \\rfloor$ permutations.\n",
    "-  Hence, the size of P shrinks by at most half after each comparison and in order for |P| = 1, $log_2 (n!)$ comparisons are required.\n",
    "$$ log_2(n!) = \\sum_{i=1}^{n}log_2i $$\n",
    "$$ \\geq \\sum_{i=n/2}^{n}log_2i $$\n",
    "$$ \\geq (n/2)log_2(n/2) $$\n",
    "$$ = \\Sigma(nlogn)$$\n",
    "\n",
    "Sidenote: the world's fastest deterministic sorting algorithm runs in O(nloglogn) time.\n",
    "\n",
    "#### Counting Sort\n",
    "Relies on A being a set (now called S) - implying that there are no duplicate entries.\n",
    "Process:\n",
    "1.  Let S be a set containing unique elements from [1, U]. Create an array B of length U will all elements = 0.\n",
    "2.  For every i $\\in$ [1, n]:\n",
    "    3.  Set x = A[i]\n",
    "    4.  Set B[x] = 1\n",
    "3.  Generate the sorted order in A with one more scan of B.\n",
    "    5.  Clear all the elements in A\n",
    "    6.  For every x $\\in$ [1, U]: if B[x] = 0, do nothing; otherwise, append integer x to A.\n",
    "    \n",
    "Running time:\n",
    "-  Steps 1 & 3 take O(U) time.\n",
    "-  Step 2 takes O(n) time.\n",
    "-  $\\therefore$ overall running time is )(n + U) = O(U)\n",
    "-  For small U = O(n) e.g. 1000n, the counting sort runs in O(n) time.\n",
    "\n",
    "Outcomes:\n",
    "-  Counting sort is slow when U is much larger than n.\n",
    "-  Doesn't use comparisons (at all).\n",
    "-  Potentially uses more memory (to store B) esp. when U is large."
   ]
  },
  {
   "cell_type": "markdown",
   "metadata": {
    "collapsed": true
   },
   "source": [
    "### Lecture 8 (Linked Lists, Stacks, Queues)\n",
    "-  Data structure: an abstraction of how data is stored in memory.\n",
    "-  Array: a sequence of consecutive memory cells with a length (l) specified at creation time. This introduces certain limitations:\n",
    "    -  Ability to increase size is limited by usage of subsequent memory.\n",
    "    -  Difficult to shrink size if some elements have been removed.\n",
    "\n",
    "__Linked Lists__\n",
    "\n",
    "-  Linked Lists: sequence of nodes where every node consists of:\n",
    "    -  A piece of data.\n",
    "    -  Pointer to the following node (= null if last node).\n",
    "    -  Pointer to the preceeding node (if a doubly-linked list, = null if first node [head]).\n",
    "![](img/linked-list.png)\n",
    "\n",
    "-  N.B: the nodes can be stored anywhere - in any order - in memory.\n",
    "-  Storage space: $O(n)$ time.\n",
    "-  Search (worst-case): $O(n)$ time.\n",
    "-  Advantages:\n",
    "    -  Supports updates:\n",
    "        -  Insertion:\n",
    "            1.  Identify tail node $t$.\n",
    "            2.  Create new node $u$.\n",
    "            3.  Set next-pointer of $t$ to the address of $u$.\n",
    "            4.  Set the previous-pointer of $u$ to $t$.\n",
    "            -  $u$ is the new tail of the list. If the address of the tail is known, then insertion is $O(1)$.\n",
    "        -  Deletion:\n",
    "            1.  Identify preceeding node $r$.\n",
    "            2.  Identify successor node $t$.\n",
    "            3.  Set next-pointer of $r$ to $t$.\n",
    "            4.  Set predecessor pointer of $t$ to $r$.\n",
    "            5.  Free up the memory of the deleted node $s$.\n",
    "            -  Deletion is $O(1)$ if address of $s$ is known.\n",
    "\n",
    "__The Stack__\n",
    "\n",
    "-  A Stack is set of $n$ elements that only supports the following operations:\n",
    "    -  Push($e$): insert $e$ onto the top of the stack.\n",
    "    -  Pop: removes the element from the top of the stack and returns it.\n",
    "-  A stack obeys the First-In Last-Out policy (FILO), items below the top element in the stack are inacessible until all items above them have been popped.\n",
    "-  In practice, stacks are implemented with a single linked list.\n",
    "-  Items are pushed onto and popped from the tail of the list.\n",
    "-  Time/space complexity:\n",
    "    -  Space Requirement: $O(n)$.\n",
    "    -  Push: $O(1)$.\n",
    "    -  Pop: $O(1)$.\n",
    "\n",
    "__The Queue__\n",
    "\n",
    "-  A queue is a set of $n$ elements that only supports the following two operations:\n",
    "    -  Enqueue($e$): inserts the element $e$ onto the end of the queue.\n",
    "    -  Dequeue: removes the element at the front of the queue (the least recently inserted) and returns it.\n",
    "-  In contrast to the stack, the queue follows a rule of First-In First-Out (FIFO).\n",
    "-  As with the stack, a queue is implemented using a linked-list but also needs to record the following information:\n",
    "    -  Keep track of the head and tail addresses at all times.\n",
    "-  Time/Space complexity:\n",
    "    -  Space requirement: $O(n)$.\n",
    "    -  Enqueue: $O(1)$.\n",
    "    -  Dequeue: $O(1)$."
   ]
  },
  {
   "cell_type": "markdown",
   "metadata": {},
   "source": [
    "### Lecture 9 (Dynamic Arrays, Amortised Analysis)\n",
    "Dynamic Array Problem: if $S$ is a set (array) that grows over time and has items repeatedly added to it. We want to store the elements in S in an array where its index is the number of its order of insertion.\n",
    "\n",
    "Naïve Implementation:\n",
    "\n",
    "-  For insertion of an element $e$:\n",
    "    -  If $n$ = 0:\n",
    "        -  Set $n$ to 1, initialise an array A just containing the element $e$.\n",
    "    -  Else:\n",
    "        -  Increase $n$ by 1, initialise an array A' of length $n$.\n",
    "        -  Copy all elements from A to A'.\n",
    "        -  Insert $e$ in A'[n].\n",
    "        -  Replace A with A' and destroy A.\n",
    "\n",
    "This implementation has insertion complexity of $O(n^2)$.\n",
    "\n",
    "Better Implementation\n",
    "\n",
    "-  For insertion of an element $e$:\n",
    "    -  If $n$ = 0:\n",
    "        -  Set $n$ to 1, initialise array A with length 2, containing just e.\n",
    "    -  Else:\n",
    "        -  Append (insert at the end) $e$ to A and increase $n$ by 1. \n",
    "        -  If A is full, create a new array A' of length 2n, copy the elements in A to A' and destroy A, replacing it with A'.\n",
    "        \n",
    "Time complexity:\n",
    "\n",
    "-  O(1) if A is non-full after insertion.\n",
    "-  O(n) if A is full after insertion.\n",
    "-  There can be no more than $log_2n$ array expansions.\n",
    "$$\\left(\\sum_{i=1}^{n}O(n)\\right) + \\left(\\sum_{i=1}^{log_2n}c \\cdot 2^i\\right) = O(n)$$\n",
    "\n",
    "__The Charging Argument__\n",
    "\n",
    "Invariant: after expansion, the new array has size $2n$, of which $n$ positions are empty.\n",
    "\n",
    "_Proof:_\n",
    "\n",
    "-  If an array expansion happens at time $n$, which takes $c \\cdot n$ time, then:\n",
    "-  The previous expansion happened at $n/2$.\n",
    "-  There were $n/2$ in the previous array.\n",
    "-  $n/2$ insertions have taken place since the previous expansion.\n",
    "-  Each insertion costs $c \\cdot n$ plus an additional $\\frac{c \\cdot n}{n/2} = 2 \\cdot c = O(n)$\n",
    "\n",
    "Stack-With-Array Problem:\n",
    "\n",
    "-  Let S be a set of integers as before that grows over time.\n",
    "-  Now let it support the following operations (as per a queue):\n",
    "    -  push($e$): adds an integer $e$ to the end of S.\n",
    "    -  pop: removes from S the most recently inserted integer.\n",
    "-  Let $m$ be the number of elements in S.\n",
    "-  Store S in an array A such that:\n",
    "    -  A has length O($m$).\n",
    "    -  A[0] is the least recently inserted, and A[m-1} the most recent.\n",
    "-  A is __sparse__ if the number of integers inside is equal to $\\frac{1}{4}$ of its length (the length always being a multiple of 4).\n",
    "\n",
    "_Algorithm:_\n",
    "\n",
    "-  If $m \\leq 4$, keep the elements in an array of length 4, sorted by insertion order.\n",
    "-  If $m > 4$:\n",
    "    -  Perform push in the same way as the dynamic array problem.\n",
    "    -  Perform pop by:\n",
    "        -  Return the last element of A.\n",
    "        -  If A is sparse, shrink the array:\n",
    "            -  Initialise A' of length $\\frac{n}{2}$.\n",
    "            -  Copy all the elements of A to A'.\n",
    "            -  Destroy A and replace it with A'.\n",
    "\n",
    "-  This algorithm performs any sequence of $n$ operations using only $O(n)$ time in total (resulting in a per operation time complexity of $O(1)$). Use a charging argument to prove this."
   ]
  },
  {
   "cell_type": "markdown",
   "metadata": {
    "collapsed": true
   },
   "source": [
    "### Lecture 10 (Hashing)\n",
    "-  Dictionary Search Problem: given a set $S$ of $n$ integers. We want to preprocess S into a data structure such that queries of the following form can be answered efficiently:\n",
    "    -  Given a value $v$, a query asks whether $v \\in S$.\n",
    "-  The same problem, using binary search has the following complexity:\n",
    "    -  Space consumption: $O(n)$.\n",
    "    -  Query cost: $O(log n)$.\n",
    "    -  Preprocessing cost: $O(n log n)$.\n",
    "-  Using a hash table we can acheive the following complexity performance:\n",
    "    -  Space consumption: $O(n)$.\n",
    "    -  Query cost: $O(1)$. (in expectation).\n",
    "    -  Preprocessing cost: $O(n)$.\n",
    "-  Hashing: dividing the dataset $S$ into $m$ disjoint subsets such that only one subset needs needs to be searched to answer any query.\n",
    "-  Hash Function: if Z is the set of all integers and [m] the set of integers from 1 to m: a hash function $h$ is a function from Z to [m].\n",
    "    -  Given any integer k, h(k) returns an integer in [m].\n",
    "    -  The value $h(k)$ is called the hash value of $k$.\n",
    "    -  The quality of the hash function heavily impacts the efficiency of each query. Bad hashing algorithms can end up with the problem depicted below, known as collision.\n",
    "![](img/collision.png)\n",
    "\n",
    "#### Hash Table Preprocessing\n",
    "1.  Choose an integer $m > 0$ and a hash function $h$ from $Z \\rightarrow [m]$.\n",
    "2.  Create an array H of length $m$.\n",
    "3.  For each $i \\in [1,m]$, create an empty linked list $L_i$. Keep the head and tail pointers of $L_i$ in H[i].\n",
    "4.  For each integer $x \\in S$:\n",
    "    -  Calculate the hash value $f(x)$.\n",
    "    -  Insert x into $L_{h(x)}$.\n",
    "![](img/hash-table.png)\n",
    "    \n",
    "#### Hash Table Querying\n",
    "-  Queries (e.g. for value $v$) can be answered with the following process:\n",
    "    1.  Calculate the hash value $h(v)$.\n",
    "    2.  Scan the whole $L_{h(v)}$. If $v$ is found, return True, else return Flase.\n",
    "    \n",
    "#### Hash Table Complexity\n",
    "-  Space consumption: $O(n + m)$.\n",
    "-  Preprocessing Time: $O(n + m)$.\n",
    "-  $m$ is always chosen to be O(n), so $O(n + m) = O(2n) = O(n)$.\n",
    "\n",
    "#### Hash Function Rules:\n",
    "-  Elements should be spread out as evenly as possible.\n",
    "-  For any two different integers $k_1$, $k_2$ $Pr[h(h_1) == h(k_2)] \\leq \\frac{1}{m}$.\n",
    "-  This is known as the _universal property_.\n",
    "-  By choosing $m = \\Theta(n)$, $\\frac{n}{m} = \\Theta(1)$.\n",
    "\n",
    "#### A Universal Function\n",
    "1.  Pick a prime number $p \\geq m$ and $p \\geq k$.\n",
    "    -  $k$ is bounded by the language/model's word size at $2^w - 1$\n",
    "    -  Number theory shows that there is always a prime $p \\in [x, 2x] \\forall x > 3$. \n",
    "2.  Choose a number $\\alpha$ uniformly at random from $[1, p-1]$.\n",
    "3.  Choose a number $\\beta$ uniformly at random from $[0, p-1]$.\n",
    "4.  Construct a hash function $h$:\n",
    "    -  $h(k) = 1 + (((\\alpha \\cdot k + \\beta)\\, \\%\\, p)\\, \\%\\, m)$"
   ]
  },
  {
   "cell_type": "markdown",
   "metadata": {},
   "source": [
    "### Lecture 11 (Tree Basics)\n",
    "#### Undirected Graphs\n",
    "-  Undirected Graph: a pair of sets of vectors and edges (V, E).\n",
    "-  Edges (E) are a set of pairs (u, v) of nodes, where u and v are distinct.\n",
    "-  Vectors, or _nodes_ represent the end of edges or the intersections between two edges.\n",
    "![](img/undirected.png)\n",
    "\n",
    "-  Path: if G = (V,E) is an undirected graph, a _path_ in G is a sequence of nodes such that for every $i \\in [1, k - 1]$, there is an edge between $v_i$ and $v_{i+1}$.\n",
    "- Cycle: a cycle in G is a path such that:\n",
    "    -  $k \\geq 4$.\n",
    "    -  $v_1 = v_k$.\n",
    "    -  $v_1, v_2, ..., v_{k-1}$ are distinct.\n",
    "-  In the above graph, (a, b, d, a) is a cycle whereas (a, b, c, e) is a path.\n",
    "-  An undirected graph G = (V, E) is connected if, for any two distinct vertices $u$ and $v$, G has a path from $u$ to $v$.\n",
    "![](img/connected.png)\n",
    "\n",
    "#### Trees\n",
    "-  Tree: a tree is an undirected, connected graph that contains no cycles.\n",
    "![](img/tree.png)\n",
    "\n",
    "-  Lemma: a tree with $n$ nodes has $n-1$ edges.\n",
    "\n",
    "#### Rooting a Tree\n",
    "-  Given any tree T and any arbitrary node on that tree, $r$.\n",
    "-  $r$ is the root of T - it is level 0.\n",
    "-  All nodes one edge from $r$ constitute level 1 of the tree, all two nodes away from $r$ consitute level two etc.\n",
    "-  The total number of levels is called the height of the tree.\n",
    "-  A tree is said to have been \"rooted\" when a root has been designated.\n",
    "    -  The decision of which node is the root will affect the height/structure of the tree.\n",
    "    ![](img/roots.png)\n",
    "\n",
    "#### Tree Structure\n",
    "-  Parent: $u$ is the parent of $v$ if $v$ us at the level immediately below $u$ and there is an edge between the two.\n",
    "-  Child: $v$ is a child of $u$ if $u$ is $v$'s parent.\n",
    "-  Ancestor: $u$ is an ancestor of $v$ if any of the following conditions hold:\n",
    "    1.  $u=v$\n",
    "    2.  $u$ is the parent of $v$.\n",
    "    3.  $u$ is the parent of an ancestor of $v$.\n",
    "-  Descendant: $v$ is a descendant of $u$ if $u$ is its ancestor.\n",
    "-  Proper ancestor/decendant: if $u$ is a proper ancestor/descendant if it is an ancestor/descendant and $u \\neq v$.\n",
    "-  Subtree: the subtree of a node $n$ in the tree T is the portion of the tree \"at or below\" $n$.\n",
    "![](img/subtree.png)\n",
    "\n",
    "-  Leaf Node: a node that has no children.\n",
    "-  Internal node: any node that is not a leaf node.\n",
    "\n",
    "-  k-ary Tree: a rooted tree where every internal node has _at most_ k child nodes.\n",
    "-  __Lemma:__ if T is a rooted tree where every internal node has at least two child nodes, then for T with $m$ leaves, there must be at most $m-1$ internal nodes.\n",
    "![](img/k-ary.png)\n",
    "\n",
    "#### Binary Trees\n",
    "-  A 2-ary tree is known as a binary tree.\n",
    "-  Left-Right Labelled: a binary tree is left-right labelled if:\n",
    "    -  Every node except the root is designated as either a left or right node of its parent.\n",
    "    -  Every internal node has at mode one left child, and at most one right child.\n",
    "    -  Node $u$ is considered 'to the left' of $v$ if they share a parent and $u$ is the left child, or they do not share a parent but the parent of $u$ is to the left of the parent of $v$.\n",
    "-  Full Level: a level of tree is considered _full_ if it contains $2^l$ nodes, where $l$ is the height of that level (i.e. there are no 'empty' points on that level).\n",
    "-  Completeness: a binary tree is considered _complete_ if:\n",
    "    -  Levels 0, 1... h-2 are full (all levels except the last are full).\n",
    "    -  At level h-1, the leaf nodes are 'as far left as possible', (i.e. if a node was added, then the first empty space it could be added to would be to the right of all other nodes on level h-1).\n",
    "-  __Lemma:__ a complete binary tree with $n \\leq 2$ nodes has height $O(log n)$."
   ]
  },
  {
   "cell_type": "markdown",
   "metadata": {},
   "source": [
    "### Lecture 12 (Priority Queues and Binary Heaps)\n",
    "-  Priority Queue: stores a set S of $n$ integers and supports the following operations:\n",
    "    -  Insert(e): Add a new integer to S.\n",
    "    -  Delete-min: removes the smallest integer in S and returns it.\n",
    "#### Binary Heaps\n",
    "-  Binary Heap: is a binary tree T satisfying the following conditions:\n",
    "    -  T is complete.\n",
    "    -  Every node $u$ in T corresponds with a distinct integer in S (known as the key).\n",
    "    -  If $u$ is an internal node, then its key is smaller than that of its children.\n",
    "-  A binary heap can be used to implement a priority queue with $O(n)$ space, $O(logn)$ insertion, $O(logn)$ deletion.\n",
    "![](img/binary-heap.png)\n",
    "\n",
    "-  Operations on the binary heap:\n",
    "    -  Insertion\n",
    "        1.  Create a leaf node $z$ with key $e$, ensuring that T retains its completeness.\n",
    "        2.  Set $u \\leftarrow z$.\n",
    "        3.  If $u$ is the root, return.\n",
    "        4.  If the key of $u$ is greater than the key of its parent, return.\n",
    "        5.  Otherwise, swap the keys of $u$ and its parent and go to step 3.\n",
    "\n",
    "![](img/bh-insert.png)\n",
    "\n",
    "-  .\n",
    "    -  Delete-Min:\n",
    "        1.  Report the key of the root.\n",
    "        2.  Identify the rightmost leaf $z$ at the bottom level of T.\n",
    "        3.  Delete $z$, and store the key of $z$ at the root.\n",
    "        4.  Set $u \\leftarrow$ the root.\n",
    "        5.  If $u$ is a leaft, return.\n",
    "        6.  If the key of $u$ < the keys of all of $u$'s children, then return.\n",
    "        7.  Otherwise, let $v$ be the child of $u$ with a smaller key. Swap the keys of $u$ and $v$. Set $u \\leftarrow v$, and repeat from Step 5.\n",
    "![](img/bh-delete.png)\n",
    "\n",
    "-  Finding the rightmost leaf on the bottom level $O(logn)$:\n",
    "    1.  Translate $n$, the number of nodes, to binary form.\n",
    "    2.  Ignore the most significant bit.\n",
    "    3.  Read the remaining bits left to right.\n",
    "        -  If the next bit is zero, go to the left child of the current node.\n",
    "        -  If the next bit is one, got to the right child of the current node.\n",
    "    4.  The node reached on consuming the last bit is the bottom-rightmost node.\n",
    "    \n",
    "#### Time Complexity\n",
    "-  Insertion: $O(logn)$:\n",
    "    -  Step 1 can be completed in $O(logn)$ time.\n",
    "    -  The rest of insertion ascends leaf-to-root in $O(logn)$ time.\n",
    "-  Delete-min: $O(logn)$.\n",
    "    -  Step 2 can be completed in $O(logn)$ time.\n",
    "    -  The rest of delete-min ascends root-to-leaf in $O(logn)$ time.\n",
    "-  Space Complexity: $O(logn)$.\n",
    "    "
   ]
  },
  {
   "cell_type": "markdown",
   "metadata": {},
   "source": []
  }
 ],
 "metadata": {
  "kernelspec": {
   "display_name": "Python 3",
   "language": "python",
   "name": "python3"
  },
  "language_info": {
   "codemirror_mode": {
    "name": "ipython",
    "version": 3
   },
   "file_extension": ".py",
   "mimetype": "text/x-python",
   "name": "python",
   "nbconvert_exporter": "python",
   "pygments_lexer": "ipython3",
   "version": "3.6.0"
  }
 },
 "nbformat": 4,
 "nbformat_minor": 2
}
